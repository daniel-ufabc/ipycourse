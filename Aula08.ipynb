{
 "cells": [
  {
   "cell_type": "markdown",
   "metadata": {},
   "source": [
    "<div id=\"homesweethome\"></div>\n",
    "\n",
    "<div style=\"width: 100%; text-align: center; color: white; background-color: #222; font-size: 3em; font-weight: 700; padding: .5em .5em .6em .5em; line-height: 1.4em;\">Programação em Python para Iniciantes</div>\n",
    "\n",
    "<br>\n",
    "\n",
    "<div style=\"width: 100%; text-align: center; color: white; background-color: #555; font-size: 2.2em; font-weight: 700; padding: .5em .5em .6em .5em; line-height: 1em;\">Projeto de Conclusão do Curso</div>\n",
    "\n",
    "<br>\n",
    "\n",
    "Nesta aula, vamos fazer uma pequena atividade prática para aplicar conhecimentos aprendidos ao longo do curso. \n",
    "\n",
    "Para isso, vamos fazer um programa que simule o jogo da forca. Você vai usar o gráfico do jogo da forca que implementou como solução do exercício para casa proposto na unidade 6.\n",
    "\n",
    "Veja abaixo um esqueleto de programa com algumas dicas de programação.\n",
    "\n",
    "Bom projeto!\n"
   ]
  },
  {
   "cell_type": "code",
   "execution_count": null,
   "metadata": {},
   "outputs": [],
   "source": [
    "##############################################################################\n",
    "# MiniProjeto do Curso de Extensão \"Programação em Python para Iniciantes\"\n",
    "# Data: 20/10/2017\n",
    "# Autor 1: \n",
    "# Autor 2: \n",
    "##############################################################################\n",
    "\n",
    "%matplotlib notebook\n",
    "import numpy as np\n",
    "import matplotlib.pyplot as plt\n",
    "# importe aqui as demais bibliotecas de que precisar\n",
    "\n",
    "\n",
    "# Para rodar seu programa em um script .py (fora do Jupyter),\n",
    "# incorpore as duas linhas à seguir ao seu código:\n",
    "# import matplotlib\n",
    "# matplotlib.interactive(True)\n",
    "\n",
    "\n",
    "fig,ax = plt.subplots()\n",
    "\n",
    "\n",
    "##############################################################################\n",
    "#   Funções auxiliares\n",
    "##############################################################################\n",
    "\n",
    "\n",
    "# Escreva aqui uma função com nome escolherPalavra que faça o seguinte:\n",
    "#   1- abrir o arquivo palavrasJogoForcaSemAcentos no link\n",
    "#   2- inserir numa lista todas as palavras do arquivo com tamanho maior que seis\n",
    "#   3- obter o tamanho da lista \n",
    "#   4- escolher um número aleatório que será a posição da palavra a escolher\n",
    "#   5- retornar a palavra da lista que ocupa a posição aleatória gerada\n",
    "\n",
    "\n",
    "\n",
    "# Escreva aqui uma função palavraMascarada(palavra, letras) que recebe uma \n",
    "# string e uma lista de letras e retorna outra uma string mascara do mesmo \n",
    "# comprimento de palavra e tal que para todo i = 0..len(palavra)-1\n",
    "#\n",
    "#     mascara[i] = palavra[i] se palavra[i] pertence a letras\n",
    "#     mascara[i] = \"_\"        se palavra[i] não pertence a letras\n",
    "\n",
    "\n",
    "\n",
    "# Escreva aqui uma função palavraEspacada(palavra) que recebe uma \n",
    "# string e retorna outra uma string com um espaço entre cada par de letras \n",
    "# consecutivas a fim de facilitar a contagem de carcteres pelo usuário.\n",
    "#\n",
    "# Exemplo: y = palavraEspacada(x)\n",
    "# \n",
    "#     x:   aba_a_i\n",
    "#\n",
    "#     y:   a b a _ a _ i\n",
    "\n",
    "\n",
    "##############################################################################\n",
    "#   Programa principal\n",
    "##############################################################################\n",
    "\n",
    "\n",
    "palavraMisteriosa = escolherPalavra()\n",
    "\n",
    "letrasDigitadas = []\n",
    "\n",
    "palavraDescoberta = palavraMascarada(palavraMisteriosa, letrasDigitadas)\n",
    "\n",
    "plt.grid(False) # <<< tira a grade\n",
    "plt.title(\"Jogo da Forca\", fontsize=20)\n",
    "plt.xlabel(palavraEspacada(palavraDescoberta), fontsize=18)\n",
    "fig.canvas.draw()\n",
    "\n",
    "numErros = 0\n",
    "maxErros = \n",
    "#          ^^^^^^^ \n",
    "# preencher com o número máximo de erros do usuário \n",
    "# que você irá tolerar. Depende de quantos elementos tem o seu\n",
    "# desenho do enforcado.\n",
    "\n",
    "while ????:  # <<< coloque aqui uma condição para repetir o laço\n",
    "    \n",
    "    # Tarefas a resolver (você pode mudar a ordem de algumas tarefas)\n",
    "    \n",
    "    #   - Ler uma letra\n",
    "    \n",
    "    #   - Validar se foi lida uma letra minúscula\n",
    "    \n",
    "    #   - Testar se a letra já foi digitada previamente\n",
    "    \n",
    "    #   - Incluir a letra em letrasDigitadas\n",
    "    \n",
    "    #   - Testar se o chute da letra foi certeiro ou não\n",
    "    \n",
    "    #   - Atualizar a nova palavraDescoberta e atualizar o título do gráfico\n",
    "    \n",
    "    #   - Testar se a palavra foi desvendada\n",
    "        \n",
    "    #   - Redesenhar o gráfico. Use o código do gráfico da forca já implementado.\n",
    "    #     Note que agora você terá que construir o gráfico de forma incremental,\n",
    "    #     i.e. algumas partes serão mostradas ou não dependendo do número de erros.\n",
    "    #     IMPORTANTE: para fazer o gráfico use ax.plot(...) em vez de plt.plot(...)\n",
    "    \n",
    "    \n",
    "    #     Lembre-se de que agora precisamos usar o draw para mostrar o gráfico\n",
    "    fig.canvas.draw()  \n",
    "\n",
    "    #   - Testar se o usuário foi enforcado (na verdade isso tem a ver com a condição do laço)\n",
    "            \n",
    "    \n",
    "# Ao sair do laço mostrar uma mensagem de parabéns ou de você foi enforcado"
   ]
  },
  {
   "cell_type": "markdown",
   "metadata": {},
   "source": [
    "Você pode inserir mais células de código pelo menu **_Insert &raquo; Insert Cell Below_**, ou digitando <samp>ESC+B</samp>. Use essas células para testar as funções ou segmentos de seu programa."
   ]
  },
  {
   "cell_type": "code",
   "execution_count": null,
   "metadata": {},
   "outputs": [],
   "source": []
  },
  {
   "cell_type": "markdown",
   "metadata": {},
   "source": [
    "# Exercício para casa\n",
    "\n",
    "Modifique seu programa para aceitar palavras acentuadas (veja o arquivo palavrasJogoForca). Dessa forma, quando o usuário digitar uma vogal, toda vogal acentuada na palavra deve ser descoberta.\n",
    "\n"
   ]
  },
  {
   "cell_type": "code",
   "execution_count": null,
   "metadata": {},
   "outputs": [],
   "source": []
  },
  {
   "cell_type": "markdown",
   "metadata": {},
   "source": [
    "Esperamos vocês tenham aproveitado o curso e lhes encorajamos a continuar aprendendo muito mais da linguagem Pyhton! Em breve lhe enviaremos um formulário de pesquisa para que você possa avaliar o curso. "
   ]
  },
  {
   "cell_type": "code",
   "execution_count": null,
   "metadata": {},
   "outputs": [],
   "source": []
  },
  {
   "cell_type": "markdown",
   "metadata": {},
   "source": [
    "<a rel=\"license\" href=\"http://creativecommons.org/licenses/by-sa/4.0/\"><img alt=\"Creative Commons License\" style=\"border-width:0\" src=\"https://i.creativecommons.org/l/by-sa/4.0/88x31.png\" /></a><br /><span xmlns:dct=\"http://purl.org/dc/terms/\" href=\"http://purl.org/dc/dcmitype/InteractiveResource\" property=\"dct:title\" rel=\"dct:type\">Python 3 Practice Notebooks</span> by <a xmlns:cc=\"http://creativecommons.org/ns#\" href=\"https://github.com/daniel-ufabc/ipycourse\" property=\"cc:attributionName\" rel=\"cc:attributionURL\">Cristinane Sato, Daniel M. Martin and Mirtha L. F. Venero</a> is licensed under a <a rel=\"license\" href=\"http://creativecommons.org/licenses/by-sa/4.0/\">Creative Commons Attribution-ShareAlike 4.0 International License</a>."
   ]
  },
  {
   "cell_type": "code",
   "execution_count": null,
   "metadata": {},
   "outputs": [],
   "source": []
  }
 ],
 "metadata": {
  "kernelspec": {
   "display_name": "Python 3",
   "language": "python",
   "name": "python3"
  },
  "language_info": {
   "codemirror_mode": {
    "name": "ipython",
    "version": 3
   },
   "file_extension": ".py",
   "mimetype": "text/x-python",
   "name": "python",
   "nbconvert_exporter": "python",
   "pygments_lexer": "ipython3",
   "version": "3.5.2"
  }
 },
 "nbformat": 4,
 "nbformat_minor": 2
}
