{
 "cells": [
  {
   "cell_type": "markdown",
   "metadata": {},
   "source": [
    "<div id=\"homesweethome\"></div>\n",
    "\n",
    "<div style=\"width: 100%; text-align: center; color: white; background-color: #222; font-size: 3em; font-weight: 700; padding: .5em .5em .6em .5em; line-height: 1.4em;\">Programação em Python para Iniciantes</div>\n",
    "\n",
    "<br>\n",
    "\n",
    "<div style=\"width: 100%; text-align: center; color: white; background-color: #555; font-size: 2.2em; font-weight: 700; padding: .5em .5em .6em .5em; line-height: 0.9em;\">Estruturas de repetição</div>\n",
    "\n",
    "<br>\n",
    "\n",
    "Nesta unidade, você vai aprender como fazer para executar um trecho do seu programa várias vezes automaticamente.\n",
    "\n",
    "Isso é muito útil quando o problema que estamos tentando resolver envolve tarefas repetitivas!"
   ]
  },
  {
   "cell_type": "markdown",
   "metadata": {},
   "source": [
    "<hr>\n",
    "## Introdução\n",
    "\n",
    "Vamos começar com um exemplo: suponha que você queira imprimir os números de **1** a **5**. \n",
    "\n",
    "Você poderia fazer o seguinte:"
   ]
  },
  {
   "cell_type": "code",
   "execution_count": null,
   "metadata": {
    "collapsed": true
   },
   "outputs": [],
   "source": [
    "print(1)\n",
    "print(2)\n",
    "print(3)\n",
    "print(4)\n",
    "print(5)"
   ]
  },
  {
   "cell_type": "markdown",
   "metadata": {},
   "source": [
    "Isso é factivel.\n",
    "\n",
    "Agora, e se você quisesse imprimir os números de **1** a **100**?\n",
    "\n",
    "Tudo bem, imprimir os números de **1** a **100** com um monte de linhas `print()` é muito tedioso, mas também seria possível.\n",
    "\n",
    "O problema complica mesmo se você quisesse imprimir os números de **1** a <b>$n$</b>, onde $n$ é um número que você obteve do usuário através de uma chamada do `input()`. \n",
    "\n",
    "Com os recursos da linguagem que aprendemos até o momento, isso não seria nem chato nem tedioso, seria impossível!\n",
    "\n",
    "Para lidar com situações que exigem repetição de tarefas, as linguagens de programação possuem estruturas de repetição (também chamadas de _laços_) como o comando **`for`** e o comando **`while`**.\n",
    "\n",
    "Veja a seguir como você pode fazer para imprimir os números de 1 a 5 com o comando **`for`**:"
   ]
  },
  {
   "cell_type": "code",
   "execution_count": null,
   "metadata": {
    "collapsed": true
   },
   "outputs": [],
   "source": [
    "for n in [1, 2, 3, 4, 5]:\n",
    "    print(n)"
   ]
  },
  {
   "cell_type": "markdown",
   "metadata": {},
   "source": [
    "O que exatamente o nosso código está fazendo? Execute o código a seguir para ver uma animação:"
   ]
  },
  {
   "cell_type": "code",
   "execution_count": null,
   "metadata": {
    "collapsed": false
   },
   "outputs": [],
   "source": [
    "# Código para rodar vídeo\n",
    "from IPython.display import HTML\n",
    "HTML('<iframe width=\"420\" height=\"315\" src=\"https://www.youtube.com/embed/9h_5HYvmL44\"></iframe>')"
   ]
  },
  {
   "cell_type": "markdown",
   "metadata": {},
   "source": [
    "<hr> \n",
    "\n",
    "### Exercício <span class=\"exec\"></span>: números de 1 a 8\n",
    "\n",
    "Modifique o código abaixo para que ele mostre os números de 1 a 8.\n"
   ]
  },
  {
   "cell_type": "code",
   "execution_count": null,
   "metadata": {
    "collapsed": true
   },
   "outputs": [],
   "source": [
    "for n in [1, 2, 3, 4, 5]:\n",
    "    print(n)"
   ]
  },
  {
   "cell_type": "markdown",
   "metadata": {},
   "source": [
    "<hr>\n",
    "\n",
    "Antes de prosseguirmos com mais explicações sobre o comando **`for`**, vamos tentar entender o conceito de _lista_."
   ]
  },
  {
   "cell_type": "markdown",
   "metadata": {},
   "source": [
    "## Listas\n",
    "\n",
    "`[1, 2, 3, 4, 5]` é um exemplo de **lista**. Uma lista pode ter elementos de vários tipos!\n",
    "\n",
    "Veja o código abaixo."
   ]
  },
  {
   "cell_type": "code",
   "execution_count": null,
   "metadata": {
    "collapsed": false
   },
   "outputs": [],
   "source": [
    "['papagaio', 'cachorro', True, 34]"
   ]
  },
  {
   "cell_type": "markdown",
   "metadata": {},
   "source": [
    "Podemos usar uma variável para guardar uma lista de dados:"
   ]
  },
  {
   "cell_type": "code",
   "execution_count": null,
   "metadata": {
    "collapsed": false
   },
   "outputs": [],
   "source": [
    "x = ['Alice', 'Beto', 'Caio', 4, 35.2176, False]\n",
    "print(x)"
   ]
  },
  {
   "cell_type": "markdown",
   "metadata": {},
   "source": [
    "### Acessando uma posição específica\n",
    "\n",
    "Um elemento de uma lista pode ser acessado diretamente se soubermos sua posição (índice) na lista.\n",
    "\n",
    "Por exemplo, para acessar o primeiro elemento da lista `x` definida acima, podemos fazer"
   ]
  },
  {
   "cell_type": "code",
   "execution_count": null,
   "metadata": {
    "collapsed": false
   },
   "outputs": [],
   "source": [
    "x[0]"
   ]
  },
  {
   "cell_type": "code",
   "execution_count": null,
   "metadata": {
    "collapsed": true
   },
   "outputs": [],
   "source": [
    "x[1]"
   ]
  },
  {
   "cell_type": "markdown",
   "metadata": {
    "collapsed": true
   },
   "source": [
    "Repare que o primeiro elemento se encontra na posição 0, o segundo elemento, na posição 1, e assim por diante...\n",
    "\n",
    "Se uma lista `x` contém 100 elementos, então os índices variam de 0 a 99. \n",
    "\n",
    "Mais em geral, se uma lista `x` contém $n$ elementos, então os índices variam de 0 a $n-1$. \n",
    "\n",
    "<hr>\n",
    "\n",
    "Note que podemos alterar o valor em qualquer posição de uma lista armazenada na variável `x`:"
   ]
  },
  {
   "cell_type": "code",
   "execution_count": null,
   "metadata": {
    "collapsed": true
   },
   "outputs": [],
   "source": [
    "x[0] = 10.20"
   ]
  },
  {
   "cell_type": "code",
   "execution_count": null,
   "metadata": {
    "collapsed": false
   },
   "outputs": [],
   "source": [
    "print(x)"
   ]
  },
  {
   "cell_type": "markdown",
   "metadata": {
    "collapsed": true
   },
   "source": [
    "Se você tentar acessar (para leitura ou escrita) o valor de uma posição não existente, o interpretador do Python gera um erro de execução.\n",
    "\n",
    "No exemplo a seguir, o programa tenta escrever na posição 20 da lista `x`. Como `x` só tem 7 elementos, você receberá uma mensagem de erro ao tentar executar o código. Veja:"
   ]
  },
  {
   "cell_type": "code",
   "execution_count": null,
   "metadata": {
    "collapsed": false
   },
   "outputs": [],
   "source": [
    "x[20] = 17"
   ]
  },
  {
   "cell_type": "markdown",
   "metadata": {},
   "source": [
    "### Comprimento da lista"
   ]
  },
  {
   "cell_type": "markdown",
   "metadata": {},
   "source": [
    "O comprimento de uma lista pode ser consultado via a função `len()`. Veja:"
   ]
  },
  {
   "cell_type": "code",
   "execution_count": null,
   "metadata": {
    "collapsed": false
   },
   "outputs": [],
   "source": [
    "len(x)"
   ]
  },
  {
   "cell_type": "markdown",
   "metadata": {},
   "source": [
    "### Índices negativos\n",
    "\n",
    "Em Python, o último elemento de uma lista pode ser acessado pelo índice -1. Veja:"
   ]
  },
  {
   "cell_type": "code",
   "execution_count": null,
   "metadata": {
    "collapsed": false
   },
   "outputs": [],
   "source": [
    "x[-1]"
   ]
  },
  {
   "cell_type": "markdown",
   "metadata": {},
   "source": [
    "O penúltimo elemento pelo índice -2 e assim por diante:"
   ]
  },
  {
   "cell_type": "code",
   "execution_count": null,
   "metadata": {
    "collapsed": false
   },
   "outputs": [],
   "source": [
    "x[-2]"
   ]
  },
  {
   "cell_type": "code",
   "execution_count": null,
   "metadata": {
    "collapsed": false
   },
   "outputs": [],
   "source": [
    "x[-3]"
   ]
  },
  {
   "cell_type": "markdown",
   "metadata": {},
   "source": [
    "O que você acha que acontecerá ao executar a célula abaixo?"
   ]
  },
  {
   "cell_type": "code",
   "execution_count": null,
   "metadata": {
    "collapsed": false
   },
   "outputs": [],
   "source": [
    "x[-20]"
   ]
  },
  {
   "cell_type": "markdown",
   "metadata": {},
   "source": [
    "### Acrescentando elementos numa lista\n",
    "\n",
    "Podemos adicionar elementos numa lista através do método `append()`."
   ]
  },
  {
   "cell_type": "code",
   "execution_count": null,
   "metadata": {
    "collapsed": true
   },
   "outputs": [],
   "source": [
    "x.append('retardatário')"
   ]
  },
  {
   "cell_type": "code",
   "execution_count": null,
   "metadata": {
    "collapsed": false
   },
   "outputs": [],
   "source": [
    "print(x)"
   ]
  },
  {
   "cell_type": "code",
   "execution_count": null,
   "metadata": {
    "collapsed": false
   },
   "outputs": [],
   "source": [
    "x.append('mais um')"
   ]
  },
  {
   "cell_type": "code",
   "execution_count": null,
   "metadata": {
    "collapsed": false
   },
   "outputs": [],
   "source": [
    "print(x)"
   ]
  },
  {
   "cell_type": "markdown",
   "metadata": {},
   "source": [
    "Para aumentar uma lista com os elementos de outra lista, podemos usar o método `extend()`. "
   ]
  },
  {
   "cell_type": "code",
   "execution_count": null,
   "metadata": {
    "collapsed": true
   },
   "outputs": [],
   "source": [
    "lista = [1, 2, 3, 4, 5]"
   ]
  },
  {
   "cell_type": "code",
   "execution_count": null,
   "metadata": {
    "collapsed": true
   },
   "outputs": [],
   "source": [
    "lista.extend(['a', 'b', 'c'])"
   ]
  },
  {
   "cell_type": "code",
   "execution_count": null,
   "metadata": {
    "collapsed": false
   },
   "outputs": [],
   "source": [
    "print(lista)"
   ]
  },
  {
   "cell_type": "markdown",
   "metadata": {},
   "source": [
    "### Removendo elementos de uma lista\n",
    "\n",
    "Há vários modos de se remover um elemento de uma lista. \n",
    "\n",
    "Neste curso, vamos dar preferência ao método `pop()`.\n",
    "\n",
    "Veja um exemplo."
   ]
  },
  {
   "cell_type": "code",
   "execution_count": null,
   "metadata": {
    "collapsed": false
   },
   "outputs": [],
   "source": [
    "x.pop()"
   ]
  },
  {
   "cell_type": "code",
   "execution_count": null,
   "metadata": {
    "collapsed": false
   },
   "outputs": [],
   "source": [
    "print(x)"
   ]
  },
  {
   "cell_type": "markdown",
   "metadata": {},
   "source": [
    "Repare que o método `pop()` faz duas coisas:\n",
    "\n",
    "1. remove o último elemento da lista (sobre a qual `pop()` foi chamada);\n",
    "2. devolve o valor do elemento removido.\n",
    "\n",
    "Veja mais uma vez:"
   ]
  },
  {
   "cell_type": "code",
   "execution_count": null,
   "metadata": {
    "collapsed": true
   },
   "outputs": [],
   "source": [
    "lista = [5, 4, 3, 2, 1]"
   ]
  },
  {
   "cell_type": "code",
   "execution_count": null,
   "metadata": {
    "collapsed": false
   },
   "outputs": [],
   "source": [
    "lista.pop()"
   ]
  },
  {
   "cell_type": "code",
   "execution_count": null,
   "metadata": {
    "collapsed": false
   },
   "outputs": [],
   "source": [
    "print(lista)"
   ]
  },
  {
   "cell_type": "code",
   "execution_count": null,
   "metadata": {
    "collapsed": false
   },
   "outputs": [],
   "source": [
    "lista.pop()"
   ]
  },
  {
   "cell_type": "code",
   "execution_count": null,
   "metadata": {
    "collapsed": false
   },
   "outputs": [],
   "source": [
    "print(lista)"
   ]
  },
  {
   "cell_type": "code",
   "execution_count": null,
   "metadata": {
    "collapsed": false
   },
   "outputs": [],
   "source": [
    "lista.pop()"
   ]
  },
  {
   "cell_type": "code",
   "execution_count": null,
   "metadata": {
    "collapsed": false
   },
   "outputs": [],
   "source": [
    "print(lista)"
   ]
  },
  {
   "cell_type": "markdown",
   "metadata": {},
   "source": [
    "O método `pop()` pode &ndash; opcionalmente &ndash; receber um argumento que denota o índice do elemento a ser removido. \n",
    "\n",
    "Por exemplo, para remover o primeiro elemento de uma lista, podemos fazer `pop(0)`."
   ]
  },
  {
   "cell_type": "code",
   "execution_count": null,
   "metadata": {
    "collapsed": true
   },
   "outputs": [],
   "source": [
    "lista = [5, 4, 3, 2, 1]"
   ]
  },
  {
   "cell_type": "code",
   "execution_count": null,
   "metadata": {
    "collapsed": false
   },
   "outputs": [],
   "source": [
    "lista.pop(0)"
   ]
  },
  {
   "cell_type": "code",
   "execution_count": null,
   "metadata": {
    "collapsed": false
   },
   "outputs": [],
   "source": [
    "lista"
   ]
  },
  {
   "cell_type": "markdown",
   "metadata": {},
   "source": [
    "Portanto, chamar o método `pop()` sem argumentos numa lista, equivale a chamar `pop(-1)`.\n",
    "\n",
    "<hr>\n",
    "\n",
    "Se você tem interesse em conhecer outros modos de remoção de elementos de uma lista em Python, pesquise pelo comando `del` ou pelo método `remove()`. Você pode pesquisar na internet ou usar a função `help()` do Python:"
   ]
  },
  {
   "cell_type": "code",
   "execution_count": null,
   "metadata": {
    "collapsed": false
   },
   "outputs": [],
   "source": [
    "help(list.remove)"
   ]
  },
  {
   "cell_type": "code",
   "execution_count": null,
   "metadata": {
    "collapsed": false
   },
   "outputs": [],
   "source": [
    "help('del')"
   ]
  },
  {
   "cell_type": "markdown",
   "metadata": {},
   "source": [
    "### Concatenação de listas\n",
    "\n",
    "Em Python, listas podem ser \"grudadas\" com o operador `+`.\n",
    "\n",
    "Formalmente, essa operação é chamada de concatenação. Veja os exemplos:"
   ]
  },
  {
   "cell_type": "code",
   "execution_count": null,
   "metadata": {
    "collapsed": true
   },
   "outputs": [],
   "source": [
    "A = [5, 4, 3, 2, 1]\n",
    "B = ['a', 'b', 'c']"
   ]
  },
  {
   "cell_type": "code",
   "execution_count": null,
   "metadata": {
    "collapsed": false
   },
   "outputs": [],
   "source": [
    "A + B"
   ]
  },
  {
   "cell_type": "code",
   "execution_count": null,
   "metadata": {
    "collapsed": false
   },
   "outputs": [],
   "source": [
    "B + A"
   ]
  },
  {
   "cell_type": "code",
   "execution_count": null,
   "metadata": {
    "collapsed": false
   },
   "outputs": [],
   "source": [
    "A"
   ]
  },
  {
   "cell_type": "code",
   "execution_count": null,
   "metadata": {
    "collapsed": false
   },
   "outputs": [],
   "source": [
    "B"
   ]
  },
  {
   "cell_type": "code",
   "execution_count": null,
   "metadata": {
    "collapsed": true
   },
   "outputs": [],
   "source": [
    "C = A + B"
   ]
  },
  {
   "cell_type": "code",
   "execution_count": null,
   "metadata": {
    "collapsed": false
   },
   "outputs": [],
   "source": [
    "C"
   ]
  },
  {
   "cell_type": "code",
   "execution_count": null,
   "metadata": {
    "collapsed": true
   },
   "outputs": [],
   "source": [
    "D = A + ['.']"
   ]
  },
  {
   "cell_type": "code",
   "execution_count": null,
   "metadata": {
    "collapsed": false
   },
   "outputs": [],
   "source": [
    "D"
   ]
  },
  {
   "cell_type": "markdown",
   "metadata": {},
   "source": [
    "### Sublistas\n",
    "\n",
    "É comum precisarmos trabalhar apenas com um pedaço de uma lista, isto é, com um subconjunto de elementos contíguos da lista original.\n",
    "\n",
    "Em Python, é muito fácil de extrair uma \"fatia\" de uma lista através do operador `:` dentro dos colchetes. \n",
    "\n",
    "Veja um exemplo:"
   ]
  },
  {
   "cell_type": "code",
   "execution_count": null,
   "metadata": {
    "collapsed": true
   },
   "outputs": [],
   "source": [
    "lista = ['a', 'b', 'c', 'd', 'e', 'f']"
   ]
  },
  {
   "cell_type": "code",
   "execution_count": null,
   "metadata": {
    "collapsed": false
   },
   "outputs": [],
   "source": [
    "lista[2:4]"
   ]
  },
  {
   "cell_type": "markdown",
   "metadata": {},
   "source": [
    "O primeiro número denota o índice do primeiro elemento que será colocado na fatia. \n",
    "\n",
    "O segundo número represente o índice do **primeiro** elemento fora da fatia.\n",
    "\n",
    "No exemplo acima a fatia contém os elementos de índices 2 e 3 (o elemento de índice 4 fica de fora).\n",
    "\n",
    "Veja outro exemplo:"
   ]
  },
  {
   "cell_type": "code",
   "execution_count": null,
   "metadata": {
    "collapsed": false
   },
   "outputs": [],
   "source": [
    "lista[4:]"
   ]
  },
  {
   "cell_type": "markdown",
   "metadata": {},
   "source": [
    "Neste exemplo, o segundo número foi suprimido, o que indica que queremos a fatia que começa no índice 4 e vai até o fim da lista.\n",
    "\n",
    "Podemos também suprimir o primeiro número para retornar um prefixo da lista:"
   ]
  },
  {
   "cell_type": "code",
   "execution_count": null,
   "metadata": {
    "collapsed": false
   },
   "outputs": [],
   "source": [
    "lista[:4]"
   ]
  },
  {
   "cell_type": "code",
   "execution_count": null,
   "metadata": {
    "collapsed": false
   },
   "outputs": [],
   "source": [
    "lista[:-2]"
   ]
  },
  {
   "cell_type": "markdown",
   "metadata": {},
   "source": [
    "### Pertinencia a uma lista\n",
    "\n",
    "Para testar se um elemento pertence a uma lista, podemos usar o operador `in`.\n",
    "\n",
    "Veja o exemplo:"
   ]
  },
  {
   "cell_type": "code",
   "execution_count": null,
   "metadata": {
    "collapsed": false
   },
   "outputs": [],
   "source": [
    "2 in [1, 3, 5, 7, 9]"
   ]
  },
  {
   "cell_type": "code",
   "execution_count": null,
   "metadata": {
    "collapsed": false
   },
   "outputs": [],
   "source": [
    "2 in ['Papagaio', 'Morcego', 2]"
   ]
  },
  {
   "cell_type": "code",
   "execution_count": null,
   "metadata": {
    "collapsed": false
   },
   "outputs": [],
   "source": [
    "lista = [1, 2, 3, 4, 5, 6]\n",
    "x = 17\n",
    "if x in lista:\n",
    "    print(x, 'pertence à lista', lista)\n",
    "else:\n",
    "    print(x, 'não pertence à lista', lista)"
   ]
  },
  {
   "cell_type": "markdown",
   "metadata": {},
   "source": [
    "<hr>\n",
    "\n",
    "### Exercício <span class=\"exec\"></span>: \n",
    "\n",
    "Mude o programa da célula acima para perguntar o valor de `x` ao usuário. \n",
    "\n",
    "<hr>"
   ]
  },
  {
   "cell_type": "markdown",
   "metadata": {},
   "source": [
    "## Tuplas\n",
    "\n",
    "Em Python, uma tupla é algo análogo a uma lista. A diferença é que tuplas são imutáveis! \n",
    "\n",
    "Você não pode executar operações de adição nem remção em uma tupla. Uma vez criada, ela não pode mais ser modificada.\n",
    "\n",
    "Você também não pode mudar o conteúdo de uma posição da tupla.\n",
    "\n",
    "Veja os exemplos:"
   ]
  },
  {
   "cell_type": "code",
   "execution_count": null,
   "metadata": {
    "collapsed": true
   },
   "outputs": [],
   "source": [
    "x = ('a', 2, 5)"
   ]
  },
  {
   "cell_type": "code",
   "execution_count": null,
   "metadata": {
    "collapsed": false
   },
   "outputs": [],
   "source": [
    "'a' in x"
   ]
  },
  {
   "cell_type": "code",
   "execution_count": null,
   "metadata": {
    "collapsed": false
   },
   "outputs": [],
   "source": [
    "x[1]"
   ]
  },
  {
   "cell_type": "markdown",
   "metadata": {},
   "source": [
    "As três células de código a seguir deverão gerar erro de execução:"
   ]
  },
  {
   "cell_type": "code",
   "execution_count": null,
   "metadata": {
    "collapsed": false,
    "scrolled": true
   },
   "outputs": [],
   "source": [
    "x[1] = 234"
   ]
  },
  {
   "cell_type": "code",
   "execution_count": null,
   "metadata": {
    "collapsed": false,
    "scrolled": true
   },
   "outputs": [],
   "source": [
    "x.append(4)"
   ]
  },
  {
   "cell_type": "code",
   "execution_count": null,
   "metadata": {
    "collapsed": false
   },
   "outputs": [],
   "source": [
    "x.pop()"
   ]
  },
  {
   "cell_type": "markdown",
   "metadata": {},
   "source": [
    "Preste atenção nas próximas duas células:"
   ]
  },
  {
   "cell_type": "code",
   "execution_count": null,
   "metadata": {
    "collapsed": false
   },
   "outputs": [],
   "source": [
    "x = x + (3, 5)"
   ]
  },
  {
   "cell_type": "code",
   "execution_count": null,
   "metadata": {
    "collapsed": false,
    "scrolled": true
   },
   "outputs": [],
   "source": [
    "x"
   ]
  },
  {
   "cell_type": "markdown",
   "metadata": {},
   "source": [
    "Depois de executar as duas últimas células, você deve estar se perguntando: \"Uai, não era imutável???\"\n",
    "\n",
    "Sim, tuplas são imutáveis. O que aconteceu é que criamos uma **nova tupla** concatenando a tupla guardada na variável `x` com a tupla `(3, 5)` e essa nova _tupla_ é então guardada na variável `x`.\n",
    "\n",
    "Se você tem dificuldade de entender isso, não se preocupe! Veremos mais exemplos com esse mesmo sabor mais para frente."
   ]
  },
  {
   "cell_type": "markdown",
   "metadata": {},
   "source": [
    "## Intervalos (_ranges_)\n",
    "\n",
    "Python tem ainda um outro tipo de dado interno chamado _range_, que é muito semelhante ao _tuple_.\n",
    "\n",
    "Um _range_ é uma lista imutável de números inteiros igualmente espaçados (como em uma progressão aritmética).\n",
    "\n",
    "A tradução mais comum para _range_ é \"intervalo\".\n",
    "\n",
    "Veja alguns exemplos mais comuns do uso de intervalos:"
   ]
  },
  {
   "cell_type": "code",
   "execution_count": null,
   "metadata": {
    "collapsed": false
   },
   "outputs": [],
   "source": [
    "x = range(1, 21)"
   ]
  },
  {
   "cell_type": "code",
   "execution_count": null,
   "metadata": {
    "collapsed": false
   },
   "outputs": [],
   "source": [
    "x[0]"
   ]
  },
  {
   "cell_type": "code",
   "execution_count": null,
   "metadata": {
    "collapsed": false
   },
   "outputs": [],
   "source": [
    "x[1]"
   ]
  },
  {
   "cell_type": "code",
   "execution_count": null,
   "metadata": {
    "collapsed": false
   },
   "outputs": [],
   "source": [
    "print(x)"
   ]
  },
  {
   "cell_type": "markdown",
   "metadata": {},
   "source": [
    "Para imprimir (mostrar na tela) a lista de valores nesse _range_, podemos converter o range para uma lista assim:"
   ]
  },
  {
   "cell_type": "code",
   "execution_count": null,
   "metadata": {
    "collapsed": false
   },
   "outputs": [],
   "source": [
    "list(x)"
   ]
  },
  {
   "cell_type": "markdown",
   "metadata": {},
   "source": [
    "Repare que `range(1, 21)` tem os números inteiros de 1 até 20 (mas não tem o 21).\n",
    "\n",
    "O primeiro argumento é o primeiro inteiro a ser incluido no intervalo.\n",
    "\n",
    "O segundo argumento é o **primeiro** inteiro fora do intervalo.\n",
    "\n",
    "Veja mais alguns exemplos:"
   ]
  },
  {
   "cell_type": "code",
   "execution_count": null,
   "metadata": {
    "collapsed": false
   },
   "outputs": [],
   "source": [
    "intervalo = range(1, 6)\n",
    "print(list(intervalo))"
   ]
  },
  {
   "cell_type": "code",
   "execution_count": null,
   "metadata": {
    "collapsed": false
   },
   "outputs": [],
   "source": [
    "for i in range(1, 6):\n",
    "    print(i)"
   ]
  },
  {
   "cell_type": "markdown",
   "metadata": {},
   "source": [
    "### Intervalos de $0$ a $n - 1$\n",
    "\n",
    "Quando programamos, é comum precisarmos do intervalo contendo todos os números inteiros de $0$ até $n - 1$.\n",
    "\n",
    "Em Python, podemos construir um intervalo desses passando um único argumento para o comando `range()`. Veja:"
   ]
  },
  {
   "cell_type": "code",
   "execution_count": null,
   "metadata": {
    "collapsed": false
   },
   "outputs": [],
   "source": [
    "n = 10\n",
    "list(range(n))"
   ]
  },
  {
   "cell_type": "markdown",
   "metadata": {},
   "source": [
    "Observe que `range(n)` é equivalente a `range(0, n)` e que, portanto, `range(n)` retorna um lista com os números de $0$ a $n-1$."
   ]
  },
  {
   "cell_type": "markdown",
   "metadata": {},
   "source": [
    "Veja mais um exemplo:"
   ]
  },
  {
   "cell_type": "code",
   "execution_count": null,
   "metadata": {
    "collapsed": false
   },
   "outputs": [],
   "source": [
    "for i in range(10):\n",
    "    print(i)"
   ]
  },
  {
   "cell_type": "markdown",
   "metadata": {},
   "source": [
    "O exemplo abaixo imprime apenas os números pares de 0 até 9:"
   ]
  },
  {
   "cell_type": "code",
   "execution_count": null,
   "metadata": {
    "collapsed": false
   },
   "outputs": [],
   "source": [
    "for i in range(10):\n",
    "    if i % 2 == 0:\n",
    "        print(i)"
   ]
  },
  {
   "cell_type": "markdown",
   "metadata": {},
   "source": [
    "### Intervalos com saltos\n",
    "\n",
    "A função `range()` pode ser utilizada para gerar progressões aritméticas quaisquer.\n",
    "\n",
    "Por exemplo, considere o código acima que imprime os números pares de 0 a 9. \n",
    "\n",
    "Esses números formam uma progrssão aritmética de razão 2. \n",
    "\n",
    "Podemos fazer isso passando um terceiro parâmetro à função `range()`. Veja:"
   ]
  },
  {
   "cell_type": "code",
   "execution_count": null,
   "metadata": {
    "collapsed": false
   },
   "outputs": [],
   "source": [
    "for i in range(0, 10, 2):\n",
    "    print(i)"
   ]
  },
  {
   "cell_type": "code",
   "execution_count": 17,
   "metadata": {
    "collapsed": false
   },
   "outputs": [
    {
     "data": {
      "text/plain": [
       "[0, 2, 4, 6, 8]"
      ]
     },
     "execution_count": 17,
     "metadata": {},
     "output_type": "execute_result"
    }
   ],
   "source": [
    "list(range(0, 10, 2))"
   ]
  },
  {
   "cell_type": "markdown",
   "metadata": {},
   "source": [
    "Podemos usar esse terceiro parâmetro para gerar intervalos decrescentes. Veja:"
   ]
  },
  {
   "cell_type": "code",
   "execution_count": 20,
   "metadata": {
    "collapsed": false
   },
   "outputs": [
    {
     "data": {
      "text/plain": [
       "[10, 9, 8, 7, 6, 5, 4, 3, 2, 1]"
      ]
     },
     "execution_count": 20,
     "metadata": {},
     "output_type": "execute_result"
    }
   ],
   "source": [
    "list(range(10, 0, -1))"
   ]
  },
  {
   "cell_type": "markdown",
   "metadata": {},
   "source": [
    "## O comando **`for`**\n",
    "\n",
    "Como você já deve ter percebido, o comando **`for`** faz com que uma variável receba, repetidamente, valores tomados de uma dada lista e, para cada um desses valores, executa o bloco de código indentado logo abaixo.\n",
    "\n",
    "A estrutura do comando **`for`** é a seguinte:\n",
    "\n",
    "\n",
    "    for variável in lista:\n",
    "        código indentado\n",
    "        código indentado\n",
    "        etc.\n",
    "    \n",
    "Assim como no comando **`if`**, a primeira linha de código não indentada depois do comando marca o fim do bloco de código associado.\n",
    "        \n",
    "A lista de elementos no comando **`for`** pode ser substituida por uma tupla ou, o que mais comum, por um intervalo.\n",
    "        "
   ]
  },
  {
   "cell_type": "markdown",
   "metadata": {},
   "source": [
    "### Exemplo:\n",
    "\n",
    "O programa a seguir imprime os números de 2 até 10"
   ]
  },
  {
   "cell_type": "code",
   "execution_count": null,
   "metadata": {
    "collapsed": true
   },
   "outputs": [],
   "source": [
    "for i in range(2, 11):\n",
    "    print(i)"
   ]
  },
  {
   "cell_type": "markdown",
   "metadata": {},
   "source": [
    "<hr>\n",
    "\n",
    "### Exercício <span class=\"exec\"></span>: números de 10 a 50\n",
    "\n",
    "Mude o código acima para que o programa imprima os números de 10 até 50 (inclusive).\n",
    "\n",
    "<hr>"
   ]
  },
  {
   "cell_type": "markdown",
   "metadata": {},
   "source": [
    "### Exemplo:\n",
    "\n",
    "Para cada número entre 1 e 10, o programa a seguir mostra o dobro desse número, o triplo, o quadrado e a raiz quadrada. "
   ]
  },
  {
   "cell_type": "code",
   "execution_count": null,
   "metadata": {
    "collapsed": false
   },
   "outputs": [],
   "source": [
    "for n in range(1, 11):\n",
    "    print('O dobro de', n, 'é', 2*n)\n",
    "    print('O triplo de', n, 'é', 3*n)\n",
    "    print('O quadrado de', n, 'é', n**2)\n",
    "    print('A raiz quadrada de', n, 'é', n**(1/2))\n",
    "    print('-------------------------------------------')"
   ]
  },
  {
   "cell_type": "markdown",
   "metadata": {},
   "source": [
    "### Exemplo:\n",
    "\n",
    "Suponha que queremos calcular a soma dos números de $1$ a $n$.\n",
    "\n",
    "Por exemplo, se $n = 5$, queremos calcular:\n",
    "\n",
    "$$1 + 2 + 3 + 4 + 5 = 15.$$\n",
    "\n",
    "Na verdade, existe uma fórmula fechada para essa soma, mas suponha que queremos fazer isso usando o comando **`for`**:"
   ]
  },
  {
   "cell_type": "code",
   "execution_count": null,
   "metadata": {
    "collapsed": true
   },
   "outputs": [],
   "source": [
    "n = int(input(\"De o valor de n: \"))\n",
    "soma = 0\n",
    "for i in range(1, n + 1):\n",
    "    soma = soma + i\n",
    "print(total)"
   ]
  },
  {
   "cell_type": "markdown",
   "metadata": {},
   "source": [
    "Você achou expressão&nbsp; `soma = soma + i` &nbsp;um pouco estranha?\n",
    "\n",
    "O que essa linha faz é o seguinte\n",
    "\n",
    "1. calcula o valor de `soma + i`\n",
    "2. guarda o resultado na variável `soma`\n",
    "\n",
    "Ou seja, o novo valor da variável `soma` após a execução dessa linha é o valor antigo de `soma` mais o valor de `i`.\n",
    "\n",
    "O código abaixo traz uma situação análoga, execute-a e veja o que acontece."
   ]
  },
  {
   "cell_type": "code",
   "execution_count": null,
   "metadata": {
    "collapsed": true
   },
   "outputs": [],
   "source": [
    "x = 2\n",
    "x = x + 10\n",
    "print(x)"
   ]
  },
  {
   "cell_type": "markdown",
   "metadata": {},
   "source": [
    "<hr>\n",
    "\n",
    "### Exercício <span class=\"exec\"></span>: fatorial\n",
    "\n",
    "O _fatorial_ de um número natural $n$ é definido como\n",
    "\n",
    "$$n! = n \\times (n-1) \\times (n-2) \\times \\cdots \\times 3 \\times 2 \\times 1.$$\n",
    "\n",
    "Ou seja é o produto de todos os inteiros de $2$ até $n$. \n",
    "\n",
    "Faça um programa que peça ao usuário um valor para $n$ e que mostra o valor de $n!$ na tela.\n",
    "\n",
    "Para conferir se seu programa está correto: 7! = 5040, 13! = 6227020800."
   ]
  },
  {
   "cell_type": "code",
   "execution_count": null,
   "metadata": {
    "collapsed": true
   },
   "outputs": [],
   "source": []
  },
  {
   "cell_type": "markdown",
   "metadata": {},
   "source": [
    "<hr>\n",
    "\n",
    "### Exercício <span class=\"exec\"></span>: soma de quadrados\n",
    "\n",
    "Abaixo, copiamos o código do exemplo que calcula $1 + 2 + \\cdots + n$.\n",
    "\n",
    "Modifique o código abaixo para calcular a soma dos quadrados dos números de $1$ até $n$. Ou seja, quando o usuário digitar um número $n$, o programa deverá mostrar o resultado da soma\n",
    "\n",
    "$$1^2 + 2^2 + 3^2 + \\cdots + n^2.$$\n",
    "\n",
    "Teste se seu código funciona: pára $n = 137$, seu programa deve devolver 866525"
   ]
  },
  {
   "cell_type": "code",
   "execution_count": null,
   "metadata": {
    "collapsed": false
   },
   "outputs": [],
   "source": [
    "n = int(input(\"De o valor de n: \"))\n",
    "total = 0\n",
    "for i in range(1, n + 1):\n",
    "    total = total + i\n",
    "print(total)"
   ]
  },
  {
   "cell_type": "markdown",
   "metadata": {},
   "source": [
    "<hr>\n",
    "\n",
    "### Exercício <span class=\"exec\"></span>: par ou ímpar? I\n",
    "\n",
    "O código a seguir imprime os números de 1 a 10. Modifique **apenas** o bloco de código dentro do  **`for`** de modo que ele imprima o seguinte:</p>\n",
    "\n",
    "    1 é ímpar\n",
    "    2 é par \n",
    "    3 é ímpar\n",
    "    4 é par \n",
    "    5 é ímpar\n",
    "    etc. (até 10)\n",
    "\n",
    "**Dica:** use o comando **`if`** dentro do bloco de código do **`for`**."
   ]
  },
  {
   "cell_type": "code",
   "execution_count": null,
   "metadata": {
    "collapsed": false
   },
   "outputs": [],
   "source": [
    "for n in range(1, 11):\n",
    "    print(n)"
   ]
  },
  {
   "cell_type": "markdown",
   "metadata": {},
   "source": [
    "<hr>\n",
    "\n",
    "### Exemplo:\n",
    "\n",
    "O código a seguir pede que o usuário digite o número de vendas, depois pede o valor de cada venda e, finalmente, calcula e imprime o valor total das vendas."
   ]
  },
  {
   "cell_type": "code",
   "execution_count": null,
   "metadata": {
    "collapsed": false
   },
   "outputs": [],
   "source": [
    "n = int(input(\"Qual o número de vendas? \"))\n",
    "total = 0.0\n",
    "for i in range(n):\n",
    "    valor = float(input(\"Qual o valor da venda? \"))\n",
    "    total = total + valor\n",
    "print(\"A total das vendas é:\", total)"
   ]
  },
  {
   "cell_type": "markdown",
   "metadata": {},
   "source": [
    "Podemos indicar para o usuário qual venda ele deve fornecer em cada momento.\n",
    "\n",
    "Preste atenção no que mudou no código a seguir e como isso afeta a execução:"
   ]
  },
  {
   "cell_type": "code",
   "execution_count": null,
   "metadata": {
    "collapsed": false
   },
   "outputs": [],
   "source": [
    "n = int(input(\"Qual o número de vendas? \"))\n",
    "total = 0.0\n",
    "for i in range(n):\n",
    "    valor = float(input(\"Qual o valor da \" + str(i + 1) + \"ª venda? \"))\n",
    "    total = total + valor\n",
    "print(\"A total das vendas é:\", total)"
   ]
  },
  {
   "cell_type": "markdown",
   "metadata": {},
   "source": [
    "<hr>\n",
    "\n",
    "### Exercício <span class=\"exec\"></span>: média das vendas\n",
    "\n",
    "Modifique o código acima para que, além do valor total das vendas, o programa imprima também o valor médio das vendas.\n",
    "\n",
    "Teste se seu código funciona: para valores 12.20, 15.30, 17.50, a média deve ser 15.0\n"
   ]
  },
  {
   "cell_type": "markdown",
   "metadata": {},
   "source": [
    "<hr>\n",
    "\n",
    "### Exercício <span class=\"exec\"></span>: parabéns!\n",
    "\n",
    "Copiamos o código do exemplo anterior na célula abaixo.\n",
    "\n",
    "Modifique-o de modo que, toda vez que o usuário digitar uma venda de valor maior do que 100, o programa mostre &ndash; naquele mesmo momento &ndash; uma mensagem de parabéns para o vendedor.\n",
    "\n",
    "Faça com que seu programa conte quantas vendas ultrapassaram R$ 100 e, no final, imprima uma mensagem informando essa quantidade.\n",
    "\n",
    "Não use listas para armazenar os valores das vendas."
   ]
  },
  {
   "cell_type": "code",
   "execution_count": null,
   "metadata": {
    "collapsed": true
   },
   "outputs": [],
   "source": [
    "n = int(input(\"Qual o número de vendas? \"))\n",
    "total = 0.0\n",
    "for i in range(n):\n",
    "    valor = float(input(\"Qual o valor da venda? \"))\n",
    "    total = total + valor\n",
    "print(\"A total das vendas é:\", total)"
   ]
  },
  {
   "cell_type": "markdown",
   "metadata": {},
   "source": [
    "<hr>\n",
    "\n",
    "### Exercício <span class=\"exec\"></span>: par ou ímpar? II\n",
    "\n",
    "Faça um programa que pede para o usuário digitar um inteiro $n > 0$ e que depois pede para o usuário digitar $n$ inteiros. Finalmente mostre ao usuário quantos números pares e quantos ímpares ele digitou."
   ]
  },
  {
   "cell_type": "code",
   "execution_count": null,
   "metadata": {
    "collapsed": true
   },
   "outputs": [],
   "source": []
  },
  {
   "cell_type": "markdown",
   "metadata": {},
   "source": [
    "<hr>\n",
    "\n",
    "### Exercício <span class=\"exec\"></span>: máximo e mínimo I\n",
    "\n",
    "Faça um programa que pergunte ao usuário para digitar um número inteiro positivo $n$. Em seguida, peça para ele digitar $n$ números racionais (_float_). Depois que o usuário entrar com cada um dos $n$ números, seu programa deve exibir na tela o máximo e o mínimo desses números.\n",
    "\n",
    "<hr>"
   ]
  },
  {
   "cell_type": "code",
   "execution_count": null,
   "metadata": {
    "collapsed": true
   },
   "outputs": [],
   "source": []
  },
  {
   "cell_type": "markdown",
   "metadata": {},
   "source": [
    "<hr>\n",
    "\n",
    "### Exercício <span class=\"exec\"></span>: quatro dígitos\n",
    "\n",
    "Fonte: [MathIsFun.com](http://www.mathsisfun.com/puzzles/four-digit-whole-number.html)\n",
    "\n",
    "Existe um número inteiro $n$ com quatro dígitos tal que os quatro dígitos menos significativos de $n^2$ são os próprios quatro dígitos de $n$. \n",
    "\n",
    "Faça um programa que usa o **`for`** para encontrar esse número e depois verifique se seu programa acertou!"
   ]
  },
  {
   "cell_type": "code",
   "execution_count": null,
   "metadata": {
    "collapsed": true
   },
   "outputs": [],
   "source": [
    "# programa"
   ]
  },
  {
   "cell_type": "code",
   "execution_count": null,
   "metadata": {
    "collapsed": true
   },
   "outputs": [],
   "source": [
    "# conta para verificar a resposta"
   ]
  },
  {
   "cell_type": "markdown",
   "metadata": {},
   "source": [
    "<hr>\n",
    "\n",
    "### Exercício <span class=\"exec\"></span>: divisores\n",
    "\n",
    "Faça um programa que pede ao usuário para digitar um número inteiro $n > 0$. Depois, seu programa deve mostrar todos os divisores de $n$. \n",
    "\n",
    "Exemplo: para $n = 2136$ seu programa deve mostrar os divisores 1, 2, 3, 4, 6, 8, 12, 24, 89, 178, 267, 356, 534, 712, 1068, 2136."
   ]
  },
  {
   "cell_type": "code",
   "execution_count": null,
   "metadata": {
    "collapsed": true
   },
   "outputs": [],
   "source": []
  },
  {
   "cell_type": "markdown",
   "metadata": {},
   "source": [
    "<hr>\n",
    "\n",
    "### Exercício <span class=\"exec\"></span>: inverso \n",
    "\n",
    "Pergunte ao usuário por um inteiro $n > 0$ e depois por uma sequência de $n$ números. Seu programa deve imprimir a sequência na ordem inversa à ordem de leitura. "
   ]
  },
  {
   "cell_type": "code",
   "execution_count": null,
   "metadata": {
    "collapsed": true
   },
   "outputs": [],
   "source": []
  },
  {
   "cell_type": "markdown",
   "metadata": {},
   "source": [
    "## Exercícios para casa"
   ]
  },
  {
   "cell_type": "markdown",
   "metadata": {},
   "source": [
    "<hr>\n",
    "\n",
    "### Exercício <span class=\"exec\"></span>: máximo e mínimo II\n",
    "\n",
    "Igualzinho ao exercício \"máximo e mínimo I\" mas, se você usou uma lista para guardar os valores digitados pelo usuário, agora não pode usar. E se você não usou, agora deve usar.\n"
   ]
  },
  {
   "cell_type": "code",
   "execution_count": null,
   "metadata": {
    "collapsed": true
   },
   "outputs": [],
   "source": []
  },
  {
   "cell_type": "markdown",
   "metadata": {},
   "source": [
    "<hr>\n",
    "\n",
    "### Exercício <span class=\"exec\"></span>: cinco dígitos\n",
    "\n",
    "Fonte: [MathIsFun.com](http://www.mathsisfun.com/puzzles/5-digit-number.html)\n",
    "\n",
    "Um número inteiro com cinco dígitos tem a seguinte propriedade: se acrescentamos um dígito 1 à esquerda obtemos um número que é três vezes menor do que o número obtido acrescentando-se um dígito 1 à direita.\n",
    "\n",
    "Faça um programa que usa o **`for`** para procurar (e encontrar) esse número, depois verifique se seu programa acertou a resposta!"
   ]
  },
  {
   "cell_type": "code",
   "execution_count": null,
   "metadata": {
    "collapsed": true
   },
   "outputs": [],
   "source": [
    "# programa"
   ]
  },
  {
   "cell_type": "code",
   "execution_count": null,
   "metadata": {
    "collapsed": true
   },
   "outputs": [],
   "source": [
    "# conta para verificar a resposta"
   ]
  },
  {
   "cell_type": "markdown",
   "metadata": {},
   "source": [
    "<hr>\n",
    "\n",
    "### Exercício <span class=\"exec\"></span>: números em ordem?\n",
    "\n",
    "Faça um programa que pergunte ao usuário para digitar um número inteiro positivo $n$. Em seguida, peça para ele digitar $n$ números racionais (_float_). Depois que o usuário terminar, seu programa deve e mostrar na tela a palavra \"_crescente_\" se os números positivos digitados pelo usuário estão em ordem crescente ou mostrar \"_não crescente_\" caso contrário.\n",
    "\n",
    "Primeiro, faça este exercício usando listas e depois sem usar listas."
   ]
  },
  {
   "cell_type": "code",
   "execution_count": null,
   "metadata": {
    "collapsed": true
   },
   "outputs": [],
   "source": [
    "# com listas"
   ]
  },
  {
   "cell_type": "code",
   "execution_count": null,
   "metadata": {
    "collapsed": true
   },
   "outputs": [],
   "source": [
    "# sem listas"
   ]
  },
  {
   "cell_type": "markdown",
   "metadata": {},
   "source": [
    "<hr>\n",
    "\n",
    "### Exercício <span class=\"exec\"></span>: primo\n",
    "\n",
    "Faça um programa que pede ao usuário para digitar um número inteiro $n > 0$ e que decide se esse número é primo ou composto."
   ]
  },
  {
   "cell_type": "code",
   "execution_count": null,
   "metadata": {
    "collapsed": true
   },
   "outputs": [],
   "source": []
  },
  {
   "cell_type": "markdown",
   "metadata": {},
   "source": [
    "<hr>\n",
    "\n",
    "### Exercício <span class=\"exec\"></span>: segmentos \n",
    "\n",
    "Fonte: [Caderno de Exercícios IME/USP](https://www.ime.usp.br/~macmulti/exercicios/)\n",
    "\n",
    "Dados $n$ e uma seqüência de $n$ números inteiros, determinar quantos segmentos de números iguais consecutivos compõem essa seqüência.\n",
    "\n",
    "Por exemplo, a seqüência 5,  2,  2,  3,  4,  4,  4,  4,  7,  7 é formada por 5 segmentos de números iguais:  \n",
    "\n",
    "$$ 5 ~~~~~~ 2 ~~  2 ~~~~~~  3 ~~~~~~  4 ~~ 4 ~~ 4 ~~ 4 ~~~~~~  7 ~~ 7  $$"
   ]
  },
  {
   "cell_type": "code",
   "execution_count": null,
   "metadata": {
    "collapsed": true
   },
   "outputs": [],
   "source": []
  },
  {
   "cell_type": "markdown",
   "metadata": {},
   "source": [
    "<hr> \n",
    "\n",
    "### Texto como tupla\n",
    "\n",
    "Um texto pode ser visto como uma tupla de caracéres! \n",
    "\n",
    "Veja:"
   ]
  },
  {
   "cell_type": "code",
   "execution_count": null,
   "metadata": {
    "collapsed": true
   },
   "outputs": [],
   "source": [
    "x = 'Algumas palavras'"
   ]
  },
  {
   "cell_type": "code",
   "execution_count": null,
   "metadata": {
    "collapsed": false
   },
   "outputs": [],
   "source": [
    "'a' in x"
   ]
  },
  {
   "cell_type": "code",
   "execution_count": null,
   "metadata": {
    "collapsed": false
   },
   "outputs": [],
   "source": [
    "x[1]"
   ]
  },
  {
   "cell_type": "markdown",
   "metadata": {},
   "source": [
    "As três células de código a seguir deverão gerar erro de execução:"
   ]
  },
  {
   "cell_type": "code",
   "execution_count": null,
   "metadata": {
    "collapsed": false,
    "scrolled": true
   },
   "outputs": [],
   "source": [
    "x[1] = 'x'"
   ]
  },
  {
   "cell_type": "code",
   "execution_count": null,
   "metadata": {
    "collapsed": false,
    "scrolled": true
   },
   "outputs": [],
   "source": [
    "x.append('z')"
   ]
  },
  {
   "cell_type": "code",
   "execution_count": null,
   "metadata": {
    "collapsed": false
   },
   "outputs": [],
   "source": [
    "x.pop()"
   ]
  },
  {
   "cell_type": "markdown",
   "metadata": {},
   "source": [
    "A concatenação de texto vocês já conheciam:"
   ]
  },
  {
   "cell_type": "code",
   "execution_count": null,
   "metadata": {
    "collapsed": false
   },
   "outputs": [],
   "source": [
    "x = x + ' amigas'"
   ]
  },
  {
   "cell_type": "code",
   "execution_count": null,
   "metadata": {
    "collapsed": false,
    "scrolled": true
   },
   "outputs": [],
   "source": [
    "x"
   ]
  },
  {
   "cell_type": "markdown",
   "metadata": {},
   "source": [
    "<hr>\n",
    "\n",
    "### Exercício <span class=\"exec\"></span>: palíndromos \n",
    "\n",
    "Fonte: [Caderno de Exercícios IME/USP](https://www.ime.usp.br/~macmulti/exercicios/)\n",
    "\n",
    "Dizemos que um texto é [palíndromo](https://pt.wikipedia.org/wiki/Pal%C3%ADndromo) se \n",
    "\n",
    "* o 1º caractére for igual ao seu último carctére, \n",
    "* o 2º caractére for igual ao penúltimo caractére, \n",
    "* e assim sucessivamente.\n",
    "\n",
    "Exemplos: 567765 e REVIVER são palíndromos. 567675 não é palíndromo.\n",
    "\n",
    "Perguntar um texto ao usuário e verificar se o texto dado é um palíndromo. "
   ]
  },
  {
   "cell_type": "code",
   "execution_count": null,
   "metadata": {
    "collapsed": true
   },
   "outputs": [],
   "source": []
  },
  {
   "cell_type": "markdown",
   "metadata": {
    "collapsed": true
   },
   "source": [
    "<hr>\n",
    "\n",
    "### Exercício <span class=\"exec\"></span>: segmento de soma máxima \n",
    "\n",
    "Dados $n > 0$ e uma seqüência de $n$ números inteiros, determinar um segmento de soma máxima.\n",
    "\n",
    "Exemplo: na seqüência 5, 2, -2, -7, <u>3, 14, 10, -3, 9</u>, -6, 4, 1, a soma do segmento é 33.\n"
   ]
  },
  {
   "cell_type": "code",
   "execution_count": null,
   "metadata": {
    "collapsed": true
   },
   "outputs": [],
   "source": []
  },
  {
   "cell_type": "markdown",
   "metadata": {},
   "source": [
    "<span style=\"color: red;\">Execute a célula abaixo para melhorar a aparência deste <i>notebook</i>.</span>"
   ]
  },
  {
   "cell_type": "code",
   "execution_count": 149,
   "metadata": {
    "collapsed": false,
    "init_cell": true
   },
   "outputs": [
    {
     "data": {
      "text/html": [
       "<style>\n",
       ".rendered_html h1 {\n",
       "    background-color: #555;\n",
       "    color: white;\n",
       "    padding: .5em;\n",
       "    // border-bottom: 2px solid #000;\n",
       "    // padding-bottom: .6em;\n",
       "    margin-bottom: 1em;\n",
       "}\n",
       "\n",
       ".rendered_html h1 code {\n",
       "    color: #EBB7C5;\n",
       "    background-color: rgba(0,0,0,0);\n",
       "}\n",
       "\n",
       ".rendered_html h2 {\n",
       "    border-bottom: 1px solid #333;\n",
       "    padding-bottom: .6em;\n",
       "}\n",
       "                                      \n",
       ".rendered_html h3 {\n",
       "    color: #034f84;\n",
       "}\n",
       "\n",
       ".rendered_html code  {\n",
       "    padding: 2px 4px;\n",
       "    font-size: 90%;\n",
       "    color: #c7254e;\n",
       "    background-color: #f9f2f4;\n",
       "    border-radius: 4px;\n",
       "}\n",
       "\n",
       ".rendered_html pre code {\n",
       "    padding: 0px;\n",
       "    font-size: 90%;\n",
       "    color: #c7254e;\n",
       "    background-color: rgba(0, 0, 0, 0);\n",
       "}\n",
       "\n",
       "kbd {\n",
       "    border-radius: 3px;  \n",
       "    padding: 2px, 3px;\n",
       "}\n",
       "\n",
       "body {\n",
       "    counter-reset: h1counter excounter;\n",
       "}\n",
       "h1:before {\n",
       "    content: counter(h1counter) \".\\0000a0\\0000a0\";\n",
       "    counter-increment: h1counter;\n",
       "}\n",
       "span.exec:before {\n",
       "    content: counter(excounter);\n",
       "    counter-increment: excounter;\n",
       "}\n",
       "\n",
       "\n",
       "</style>  \n",
       "<script>\n",
       "location.hash = \"#homesweethome\";\n",
       "</script>"
      ],
      "text/plain": [
       "<IPython.core.display.HTML object>"
      ]
     },
     "metadata": {},
     "output_type": "display_data"
    }
   ],
   "source": [
    "%%html\n",
    "<style>\n",
    ".rendered_html h1 {\n",
    "    background-color: #555;\n",
    "    color: white;\n",
    "    padding: .5em;\n",
    "    // border-bottom: 2px solid #000;\n",
    "    // padding-bottom: .6em;\n",
    "    margin-bottom: 1em;\n",
    "}\n",
    "\n",
    ".rendered_html h1 code {\n",
    "    color: #EBB7C5;\n",
    "    background-color: rgba(0,0,0,0);\n",
    "}\n",
    "\n",
    ".rendered_html h2 {\n",
    "    border-bottom: 1px solid #333;\n",
    "    padding-bottom: .6em;\n",
    "}\n",
    "                                      \n",
    ".rendered_html h3 {\n",
    "    color: #034f84;\n",
    "}\n",
    "\n",
    ".rendered_html code  {\n",
    "    padding: 2px 4px;\n",
    "    font-size: 90%;\n",
    "    color: #c7254e;\n",
    "    background-color: #f9f2f4;\n",
    "    border-radius: 4px;\n",
    "}\n",
    "\n",
    ".rendered_html pre code {\n",
    "    padding: 0px;\n",
    "    font-size: 90%;\n",
    "    color: #c7254e;\n",
    "    background-color: rgba(0, 0, 0, 0);\n",
    "}\n",
    "\n",
    "kbd {\n",
    "    border-radius: 3px;  \n",
    "    padding: 2px, 3px;\n",
    "}\n",
    "\n",
    "body {\n",
    "    counter-reset: h1counter excounter;\n",
    "}\n",
    "h1:before {\n",
    "    content: counter(h1counter) \".\\0000a0\\0000a0\";\n",
    "    counter-increment: h1counter;\n",
    "}\n",
    "span.exec:before {\n",
    "    content: counter(excounter);\n",
    "    counter-increment: excounter;\n",
    "}\n",
    "\n",
    "\n",
    "</style>  \n",
    "<script>\n",
    "location.hash = \"#homesweethome\";\n",
    "</script>"
   ]
  },
  {
   "cell_type": "code",
   "execution_count": null,
   "metadata": {
    "collapsed": true
   },
   "outputs": [],
   "source": []
  }
 ],
 "metadata": {
  "anaconda-cloud": {},
  "kernelspec": {
   "display_name": "Python 3",
   "language": "python",
   "name": "python3"
  },
  "language_info": {
   "codemirror_mode": {
    "name": "ipython",
    "version": 3
   },
   "file_extension": ".py",
   "mimetype": "text/x-python",
   "name": "python",
   "nbconvert_exporter": "python",
   "pygments_lexer": "ipython3",
   "version": "3.5.2"
  }
 },
 "nbformat": 4,
 "nbformat_minor": 1
}
